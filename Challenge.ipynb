{
  "nbformat": 4,
  "nbformat_minor": 0,
  "metadata": {
    "colab": {
      "provenance": [],
      "authorship_tag": "ABX9TyMyzw/sdNYJRkSPMi8WhXiR",
      "include_colab_link": true
    },
    "kernelspec": {
      "name": "python3",
      "display_name": "Python 3"
    },
    "language_info": {
      "name": "python"
    }
  },
  "cells": [
    {
      "cell_type": "markdown",
      "metadata": {
        "id": "view-in-github",
        "colab_type": "text"
      },
      "source": [
        "<a href=\"https://colab.research.google.com/github/FelipeBorgesdosSantos/ACrashCourse-In-PySpark/blob/main/Challenge.ipynb\" target=\"_parent\"><img src=\"https://colab.research.google.com/assets/colab-badge.svg\" alt=\"Open In Colab\"/></a>"
      ]
    },
    {
      "cell_type": "code",
      "execution_count": 1,
      "metadata": {
        "colab": {
          "base_uri": "https://localhost:8080/",
          "height": 549
        },
        "id": "S1C3qZOKQk_k",
        "outputId": "4c0d8a68-806c-483d-a3a7-bcb858e07b5e"
      },
      "outputs": [
        {
          "output_type": "stream",
          "name": "stdout",
          "text": [
            "\r0% [Working]\r            \rGet:1 https://cloud.r-project.org/bin/linux/ubuntu jammy-cran40/ InRelease [3,626 B]\n",
            "Get:2 https://developer.download.nvidia.com/compute/cuda/repos/ubuntu2204/x86_64  InRelease [1,581 B]\n",
            "Hit:3 http://archive.ubuntu.com/ubuntu jammy InRelease\n",
            "Get:4 http://security.ubuntu.com/ubuntu jammy-security InRelease [110 kB]\n",
            "Get:5 http://archive.ubuntu.com/ubuntu jammy-updates InRelease [119 kB]\n",
            "Get:6 https://developer.download.nvidia.com/compute/cuda/repos/ubuntu2204/x86_64  Packages [498 kB]\n",
            "Get:7 http://archive.ubuntu.com/ubuntu jammy-backports InRelease [109 kB]\n",
            "Hit:8 https://ppa.launchpadcontent.net/c2d4u.team/c2d4u4.0+/ubuntu jammy InRelease\n",
            "Get:9 http://archive.ubuntu.com/ubuntu jammy-updates/universe amd64 Packages [1,259 kB]\n",
            "Hit:10 https://ppa.launchpadcontent.net/deadsnakes/ppa/ubuntu jammy InRelease\n",
            "Get:11 http://archive.ubuntu.com/ubuntu jammy-updates/main amd64 Packages [1,283 kB]\n",
            "Get:12 http://archive.ubuntu.com/ubuntu jammy-updates/restricted amd64 Packages [1,155 kB]\n",
            "Get:13 http://security.ubuntu.com/ubuntu jammy-security/universe amd64 Packages [996 kB]\n",
            "Hit:14 https://ppa.launchpadcontent.net/graphics-drivers/ppa/ubuntu jammy InRelease\n",
            "Get:15 http://security.ubuntu.com/ubuntu jammy-security/main amd64 Packages [1,014 kB]\n",
            "Get:16 http://security.ubuntu.com/ubuntu jammy-security/restricted amd64 Packages [1,134 kB]\n",
            "Hit:17 https://ppa.launchpadcontent.net/ubuntugis/ppa/ubuntu jammy InRelease\n",
            "Fetched 7,682 kB in 3s (2,928 kB/s)\n",
            "Reading package lists... Done\n"
          ]
        },
        {
          "output_type": "execute_result",
          "data": {
            "text/plain": [
              "<pyspark.sql.session.SparkSession at 0x7d40d827efe0>"
            ],
            "text/html": [
              "\n",
              "            <div>\n",
              "                <p><b>SparkSession - in-memory</b></p>\n",
              "                \n",
              "        <div>\n",
              "            <p><b>SparkContext</b></p>\n",
              "\n",
              "            <p><a href=\"http://6977f69525a4:4040\">Spark UI</a></p>\n",
              "\n",
              "            <dl>\n",
              "              <dt>Version</dt>\n",
              "                <dd><code>v3.1.1</code></dd>\n",
              "              <dt>Master</dt>\n",
              "                <dd><code>local[*]</code></dd>\n",
              "              <dt>AppName</dt>\n",
              "                <dd><code>pyspark-shell</code></dd>\n",
              "            </dl>\n",
              "        </div>\n",
              "        \n",
              "            </div>\n",
              "        "
            ]
          },
          "metadata": {},
          "execution_count": 1
        }
      ],
      "source": [
        "!apt-get update # updating apt get repository\n",
        "!apt-get install openjdk-8-jdk-headless -qq > /dev/null # installing java development kit\n",
        "!wget -q http://archive.apache.org/dist/spark/spark-3.1.1/spark-3.1.1-bin-hadoop3.2.tgz # get the apache distribution from apache.org\n",
        "!tar xf spark-3.1.1-bin-hadoop3.2.tgz # unzipping apache distribution\n",
        "!pip install -q findspark # installing findspark, which adds pyspark to the system path when we execute this code\n",
        "# setting home environment variables, so we now where to find the respective libraries\n",
        "import os\n",
        "os.environ[\"JAVA_HOME\"] = \"/usr/lib/jvm/java-8-openjdk-amd64\"\n",
        "os.environ[\"SPARK_HOME\"] = \"/content/spark-3.1.1-bin-hadoop3.2\"\n",
        "# initiallizing pyspark\n",
        "import findspark\n",
        "findspark.init()\n",
        "# importing pyspark and starting a session\n",
        "from pyspark.sql import SparkSession\n",
        "spark = SparkSession.builder.master(\"local[*]\").getOrCreate()\n",
        "spark"
      ]
    },
    {
      "cell_type": "code",
      "source": [
        "# Setting schema and importing:\n",
        "from pyspark.sql.types import *\n",
        "myschema = StructType([\n",
        "      StructField('ip_address', StringType()),\n",
        "      StructField('Country', StringType()),\n",
        "      StructField('Domain Name', StringType()),\n",
        "      StructField('Bytes_used', IntegerType())\n",
        "])\n",
        "df = spark.read.csv(\"challenge.csv\", header=True, schema = myschema)\n",
        "df.show()\n",
        "df.dtypes"
      ],
      "metadata": {
        "colab": {
          "base_uri": "https://localhost:8080/"
        },
        "id": "QPqj8JFmQqA_",
        "outputId": "e343d097-875c-4387-beaf-6e147dc47bd9"
      },
      "execution_count": 2,
      "outputs": [
        {
          "output_type": "stream",
          "name": "stdout",
          "text": [
            "+---------------+--------------+-----------------+----------+\n",
            "|     ip_address|       Country|      Domain Name|Bytes_used|\n",
            "+---------------+--------------+-----------------+----------+\n",
            "|  52.81.192.172|         China| odnoklassniki.ru|       463|\n",
            "| 119.239.207.13|         China|         youtu.be|        51|\n",
            "|  68.69.217.210|         China|        adobe.com|        10|\n",
            "|   7.191.21.223|      Bulgaria|     linkedin.com|       853|\n",
            "|   211.13.10.68|     Indonesia|          hud.gov|        29|\n",
            "|   239.80.21.97|      Suriname|       smh.com.au|       218|\n",
            "|106.214.106.233|       Jamaica|    amazonaws.com|        95|\n",
            "| 127.242.24.138|         China| surveymonkey.com|       123|\n",
            "|     99.2.6.139|Czech Republic|     geocities.jp|       322|\n",
            "|   237.54.11.63|         China|       amazon.com|        83|\n",
            "| 252.141.157.25|         Japan|      cornell.edu|       374|\n",
            "|185.220.128.248|       Belgium|       weebly.com|       389|\n",
            "|   151.77.19.45|   Afghanistan|independent.co.uk|       282|\n",
            "|  9.161.158.225|     Indonesia|    bloglines.com|       726|\n",
            "| 156.144.61.155|Czech Republic|   slideshare.net|       657|\n",
            "|   8.96.188.151|     Indonesia|          ibm.com|       517|\n",
            "|      5.72.7.65|        Mexico|         youtu.be|       877|\n",
            "|227.110.112.144|       Croatia|         ehow.com|       287|\n",
            "|    81.71.28.97|      Thailand|          last.fm|       588|\n",
            "|  9.255.129.184|      Thailand|          mtv.com|       114|\n",
            "+---------------+--------------+-----------------+----------+\n",
            "only showing top 20 rows\n",
            "\n"
          ]
        },
        {
          "output_type": "execute_result",
          "data": {
            "text/plain": [
              "[('ip_address', 'string'),\n",
              " ('Country', 'string'),\n",
              " ('Domain Name', 'string'),\n",
              " ('Bytes_used', 'int')]"
            ]
          },
          "metadata": {},
          "execution_count": 2
        }
      ]
    },
    {
      "cell_type": "code",
      "source": [
        "df.describe().show()"
      ],
      "metadata": {
        "colab": {
          "base_uri": "https://localhost:8080/"
        },
        "id": "tbWBpWZIQs6v",
        "outputId": "b76e1cb3-c080-41da-f9f1-fd7c48ecc9c9"
      },
      "execution_count": 3,
      "outputs": [
        {
          "output_type": "stream",
          "name": "stdout",
          "text": [
            "+-------+------------+-----------+-------------+------------------+\n",
            "|summary|  ip_address|    Country|  Domain Name|        Bytes_used|\n",
            "+-------+------------+-----------+-------------+------------------+\n",
            "|  count|        1000|       1000|         1000|              1000|\n",
            "|   mean|        null|       null|         null|           514.369|\n",
            "| stddev|        null|       null|         null|287.66708047357156|\n",
            "|    min|0.23.109.109|Afghanistan|123-reg.co.uk|                 1|\n",
            "|    max|99.73.193.76|     Zambia|   zimbio.com|              1000|\n",
            "+-------+------------+-----------+-------------+------------------+\n",
            "\n"
          ]
        }
      ]
    },
    {
      "cell_type": "code",
      "source": [
        "# Country is Mexico?\n",
        "from pyspark.sql.functions import *\n",
        "df = df.withColumn('IsMexico', when(df.Country == 'Mexico', 'YES').otherwise('NO'))\n",
        "df.show()"
      ],
      "metadata": {
        "colab": {
          "base_uri": "https://localhost:8080/"
        },
        "id": "sR60pm6dQt5x",
        "outputId": "ee446133-2dba-41e1-ce44-1b36dca3fea9"
      },
      "execution_count": 8,
      "outputs": [
        {
          "output_type": "stream",
          "name": "stdout",
          "text": [
            "+---------------+--------------+-----------------+----------+--------+\n",
            "|     ip_address|       Country|      Domain Name|Bytes_used|IsMexico|\n",
            "+---------------+--------------+-----------------+----------+--------+\n",
            "|  52.81.192.172|         China| odnoklassniki.ru|       463|      NO|\n",
            "| 119.239.207.13|         China|         youtu.be|        51|      NO|\n",
            "|  68.69.217.210|         China|        adobe.com|        10|      NO|\n",
            "|   7.191.21.223|      Bulgaria|     linkedin.com|       853|      NO|\n",
            "|   211.13.10.68|     Indonesia|          hud.gov|        29|      NO|\n",
            "|   239.80.21.97|      Suriname|       smh.com.au|       218|      NO|\n",
            "|106.214.106.233|       Jamaica|    amazonaws.com|        95|      NO|\n",
            "| 127.242.24.138|         China| surveymonkey.com|       123|      NO|\n",
            "|     99.2.6.139|Czech Republic|     geocities.jp|       322|      NO|\n",
            "|   237.54.11.63|         China|       amazon.com|        83|      NO|\n",
            "| 252.141.157.25|         Japan|      cornell.edu|       374|      NO|\n",
            "|185.220.128.248|       Belgium|       weebly.com|       389|      NO|\n",
            "|   151.77.19.45|   Afghanistan|independent.co.uk|       282|      NO|\n",
            "|  9.161.158.225|     Indonesia|    bloglines.com|       726|      NO|\n",
            "| 156.144.61.155|Czech Republic|   slideshare.net|       657|      NO|\n",
            "|   8.96.188.151|     Indonesia|          ibm.com|       517|      NO|\n",
            "|      5.72.7.65|        Mexico|         youtu.be|       877|     YES|\n",
            "|227.110.112.144|       Croatia|         ehow.com|       287|      NO|\n",
            "|    81.71.28.97|      Thailand|          last.fm|       588|      NO|\n",
            "|  9.255.129.184|      Thailand|          mtv.com|       114|      NO|\n",
            "+---------------+--------------+-----------------+----------+--------+\n",
            "only showing top 20 rows\n",
            "\n"
          ]
        }
      ]
    },
    {
      "cell_type": "code",
      "source": [
        "# Bytes used grouped by IsMexico column:\n",
        "import pyspark.sql.functions as sqlfunc\n",
        "df1 = df.groupBy('IsMexico').agg(sqlfunc.sum('Bytes_used').alias('SumOfBytesUsed'))\n",
        "df1.show()"
      ],
      "metadata": {
        "colab": {
          "base_uri": "https://localhost:8080/"
        },
        "id": "_STUZi_2QuyX",
        "outputId": "b4e83597-c184-4da1-d612-1b81ea3edd7b"
      },
      "execution_count": 20,
      "outputs": [
        {
          "output_type": "stream",
          "name": "stdout",
          "text": [
            "+--------+--------------+\n",
            "|IsMexico|SumOfBytesUsed|\n",
            "+--------+--------------+\n",
            "|     YES|          6293|\n",
            "|      NO|        508076|\n",
            "+--------+--------------+\n",
            "\n"
          ]
        }
      ]
    },
    {
      "cell_type": "code",
      "source": [
        "# Counting distinct IP adress per country:\n",
        "df2 = df.groupBy('Country').agg(sqlfunc.countDistinct('ip_address').alias('qtd_ips_distintos')).orderBy(desc('qtd_ips_distintos'))\n",
        "df2.show()"
      ],
      "metadata": {
        "colab": {
          "base_uri": "https://localhost:8080/"
        },
        "id": "l518BWP4QvOH",
        "outputId": "49950fbd-2023-4d3e-aa70-c143955e6a1d"
      },
      "execution_count": 19,
      "outputs": [
        {
          "output_type": "stream",
          "name": "stdout",
          "text": [
            "+--------------+-----------------+\n",
            "|       Country|qtd_ips_distintos|\n",
            "+--------------+-----------------+\n",
            "|         China|              172|\n",
            "|     Indonesia|              114|\n",
            "|   Philippines|               65|\n",
            "|        Russia|               56|\n",
            "|        Brazil|               35|\n",
            "|        Poland|               31|\n",
            "|        Sweden|               28|\n",
            "|         Japan|               25|\n",
            "|Czech Republic|               23|\n",
            "|      Portugal|               23|\n",
            "|        France|               21|\n",
            "|          Peru|               19|\n",
            "|      Colombia|               17|\n",
            "| United States|               15|\n",
            "|       Ukraine|               14|\n",
            "|     Argentina|               14|\n",
            "|        Mexico|               13|\n",
            "|      Thailand|               12|\n",
            "|        Canada|               11|\n",
            "|       Nigeria|               11|\n",
            "+--------------+-----------------+\n",
            "only showing top 20 rows\n",
            "\n"
          ]
        }
      ]
    }
  ]
}
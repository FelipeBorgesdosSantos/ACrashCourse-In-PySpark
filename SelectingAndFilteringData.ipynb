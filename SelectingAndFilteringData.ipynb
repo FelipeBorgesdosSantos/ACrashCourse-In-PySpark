{
  "nbformat": 4,
  "nbformat_minor": 0,
  "metadata": {
    "colab": {
      "provenance": [],
      "authorship_tag": "ABX9TyO06TDjuY5n+VuIFzfJdWUx",
      "include_colab_link": true
    },
    "kernelspec": {
      "name": "python3",
      "display_name": "Python 3"
    },
    "language_info": {
      "name": "python"
    }
  },
  "cells": [
    {
      "cell_type": "markdown",
      "metadata": {
        "id": "view-in-github",
        "colab_type": "text"
      },
      "source": [
        "<a href=\"https://colab.research.google.com/github/FelipeBorgesdosSantos/ACrashCourse-In-PySpark/blob/main/SelectingAndFilteringData.ipynb\" target=\"_parent\"><img src=\"https://colab.research.google.com/assets/colab-badge.svg\" alt=\"Open In Colab\"/></a>"
      ]
    },
    {
      "cell_type": "code",
      "execution_count": 1,
      "metadata": {
        "colab": {
          "base_uri": "https://localhost:8080/",
          "height": 532
        },
        "id": "nnedBJ01Yfw9",
        "outputId": "48da04e9-6179-44ba-e76a-af473d8256af"
      },
      "outputs": [
        {
          "output_type": "stream",
          "name": "stdout",
          "text": [
            "Hit:1 https://developer.download.nvidia.com/compute/cuda/repos/ubuntu2204/x86_64  InRelease\n",
            "Get:2 http://security.ubuntu.com/ubuntu jammy-security InRelease [110 kB]\n",
            "Get:3 https://cloud.r-project.org/bin/linux/ubuntu jammy-cran40/ InRelease [3,626 B]\n",
            "Hit:4 http://archive.ubuntu.com/ubuntu jammy InRelease\n",
            "Get:5 http://archive.ubuntu.com/ubuntu jammy-updates InRelease [119 kB]\n",
            "Hit:6 https://ppa.launchpadcontent.net/c2d4u.team/c2d4u4.0+/ubuntu jammy InRelease\n",
            "Get:7 http://archive.ubuntu.com/ubuntu jammy-backports InRelease [109 kB]\n",
            "Hit:8 https://ppa.launchpadcontent.net/deadsnakes/ppa/ubuntu jammy InRelease\n",
            "Get:9 http://security.ubuntu.com/ubuntu jammy-security/restricted amd64 Packages [1,134 kB]\n",
            "Get:10 http://archive.ubuntu.com/ubuntu jammy-updates/universe amd64 Packages [1,259 kB]\n",
            "Hit:11 https://ppa.launchpadcontent.net/graphics-drivers/ppa/ubuntu jammy InRelease\n",
            "Get:12 http://security.ubuntu.com/ubuntu jammy-security/universe amd64 Packages [996 kB]\n",
            "Get:13 http://security.ubuntu.com/ubuntu jammy-security/main amd64 Packages [1,013 kB]\n",
            "Get:14 http://archive.ubuntu.com/ubuntu jammy-updates/main amd64 Packages [1,282 kB]\n",
            "Get:15 http://archive.ubuntu.com/ubuntu jammy-updates/restricted amd64 Packages [1,155 kB]\n",
            "Hit:16 https://ppa.launchpadcontent.net/ubuntugis/ppa/ubuntu jammy InRelease\n",
            "Fetched 7,181 kB in 2s (3,396 kB/s)\n",
            "Reading package lists... Done\n"
          ]
        },
        {
          "output_type": "execute_result",
          "data": {
            "text/plain": [
              "<pyspark.sql.session.SparkSession at 0x7c9f61968fd0>"
            ],
            "text/html": [
              "\n",
              "            <div>\n",
              "                <p><b>SparkSession - in-memory</b></p>\n",
              "                \n",
              "        <div>\n",
              "            <p><b>SparkContext</b></p>\n",
              "\n",
              "            <p><a href=\"http://9040a5fe5609:4040\">Spark UI</a></p>\n",
              "\n",
              "            <dl>\n",
              "              <dt>Version</dt>\n",
              "                <dd><code>v3.1.1</code></dd>\n",
              "              <dt>Master</dt>\n",
              "                <dd><code>local[*]</code></dd>\n",
              "              <dt>AppName</dt>\n",
              "                <dd><code>pyspark-shell</code></dd>\n",
              "            </dl>\n",
              "        </div>\n",
              "        \n",
              "            </div>\n",
              "        "
            ]
          },
          "metadata": {},
          "execution_count": 1
        }
      ],
      "source": [
        "!apt-get update # updating apt get repository\n",
        "!apt-get install openjdk-8-jdk-headless -qq > /dev/null # installing java development kit\n",
        "!wget -q http://archive.apache.org/dist/spark/spark-3.1.1/spark-3.1.1-bin-hadoop3.2.tgz # get the apache distribution from apache.org\n",
        "!tar xf spark-3.1.1-bin-hadoop3.2.tgz # unzipping apache distribution\n",
        "!pip install -q findspark # installing findspark, which adds pyspark to the system path when we execute this code\n",
        "# setting home environment variables, so we now where to find the respective libraries\n",
        "import os\n",
        "os.environ[\"JAVA_HOME\"] = \"/usr/lib/jvm/java-8-openjdk-amd64\"\n",
        "os.environ[\"SPARK_HOME\"] = \"/content/spark-3.1.1-bin-hadoop3.2\"\n",
        "# initiallizing pyspark\n",
        "import findspark\n",
        "findspark.init()\n",
        "# importing pyspark and starting a session\n",
        "from pyspark.sql import SparkSession\n",
        "spark = SparkSession.builder.master(\"local[*]\").getOrCreate()\n",
        "spark"
      ]
    },
    {
      "cell_type": "code",
      "source": [
        "# Setting schema and importing:\n",
        "from pyspark.sql.types import *\n",
        "myschema = StructType([\n",
        "      StructField('id', IntegerType()),\n",
        "      StructField('first_name', StringType()),\n",
        "      StructField('last_name', StringType()),\n",
        "      StructField('gender', StringType()),\n",
        "      StructField('City', StringType()),\n",
        "      StructField('JobTitle', StringType()),\n",
        "      StructField('Salary', StringType()),\n",
        "      StructField('Latitude', StringType()),\n",
        "      StructField('Longitude', FloatType())\n",
        "])\n",
        "df = spark.read.csv(\"original.csv\", header=True, schema = myschema)\n",
        "df.show()\n",
        "df.dtypes"
      ],
      "metadata": {
        "colab": {
          "base_uri": "https://localhost:8080/"
        },
        "id": "_5fmGc5FYj2J",
        "outputId": "db2a5536-bc31-452b-fa76-9faff94f27b4"
      },
      "execution_count": 3,
      "outputs": [
        {
          "output_type": "stream",
          "name": "stdout",
          "text": [
            "+---+----------+----------+------+---------------+--------------------+---------+----------+----------+\n",
            "| id|first_name| last_name|gender|           City|            JobTitle|   Salary|  Latitude| Longitude|\n",
            "+---+----------+----------+------+---------------+--------------------+---------+----------+----------+\n",
            "|  1|   Melinde| Shilburne|Female|      Nowa Ruda| Assistant Professor|$57438.18|50.5774075| 16.496717|\n",
            "|  2|  Kimberly|Von Welden|Female|         Bulgan|       Programmer II|$62846.60|48.8231572| 103.52182|\n",
            "|  3|    Alvera|  Di Boldi|Female|           null|                null|$57576.52|39.9947462|116.339775|\n",
            "|  4|   Shannon| O'Griffin|  Male|  Divnomorskoye|Budget/Accounting...|$61489.23|44.5047212| 38.130016|\n",
            "|  5|  Sherwood|   Macieja|  Male|      Mytishchi|            VP Sales|$63863.09|      null| 37.648994|\n",
            "|  6|     Maris|      Folk|Female|Kinsealy-Drinan|      Civil Engineer|$30101.16|53.4266145|-6.1644998|\n",
            "|  7|     Masha|    Divers|Female|         Dachun|                null|$25090.87| 24.879416|118.930115|\n",
            "|  8|   Goddart|     Flear|  Male|      Trélissac|Desktop Support T...|$46116.36|45.1905186| 0.7423124|\n",
            "|  9|      Roth|O'Cannavan|  Male|         Heitan|VP Product Manage...|$73697.10| 32.027934| 106.65711|\n",
            "| 10|      Bran|   Trahear|  Male|       Arbeláez|Mechanical System...|$68098.42|  4.272793|-74.416016|\n",
            "| 11|    Kylynn|   Lockart|Female|       El Cardo|Nuclear Power Eng...|$13604.63|     -5.85| -79.88333|\n",
            "| 12|       Rey|    Meharg|Female|    Wangqingtuo|Systems Administr...|$73423.70| 39.172378| 116.93161|\n",
            "| 13|      Kerr|    Braden|  Male|      Sułkowice|Compensation Analyst|$33432.99|49.8151822| 19.377174|\n",
            "| 14|    Mickie| Whanstall|  Male|    Springfield|Assistant Media P...|$50838.53|42.1014803|-72.576675|\n",
            "| 15|    Kaspar|     Pally|  Male|         Chrást|  Analyst Programmer|$40163.03|49.7923299| 13.491532|\n",
            "| 16|    Norbie|    Gwyllt|  Male|         Xijiao|              Editor|$32492.73|43.4945737|  5.897802|\n",
            "| 17|    Claude|    Briant|Female|      Mieścisko|Research Assistan...|$51862.48|52.7441662| 17.327864|\n",
            "| 18|     Thain|    Habbon|  Male| Foros do Trapo|     Design Engineer|$42135.67| 38.696249| -8.709834|\n",
            "| 19|  Tiffanie|  Pattison|Female|    Jabungsisir|Senior Financial ...|$91925.08|-7.7232567| 113.46868|\n",
            "| 20|    Ettore|  Gerriets|  Male|          Pedra| Staff Accountant IV|$73921.33|40.7172049|-8.3625145|\n",
            "+---+----------+----------+------+---------------+--------------------+---------+----------+----------+\n",
            "only showing top 20 rows\n",
            "\n"
          ]
        },
        {
          "output_type": "execute_result",
          "data": {
            "text/plain": [
              "[('id', 'int'),\n",
              " ('first_name', 'string'),\n",
              " ('last_name', 'string'),\n",
              " ('gender', 'string'),\n",
              " ('City', 'string'),\n",
              " ('JobTitle', 'string'),\n",
              " ('Salary', 'string'),\n",
              " ('Latitude', 'string'),\n",
              " ('Longitude', 'float')]"
            ]
          },
          "metadata": {},
          "execution_count": 3
        }
      ]
    },
    {
      "cell_type": "code",
      "source": [
        "# selecting specific columns\n",
        "df_select = df.select(\"first_name\", \"last_name\").show()"
      ],
      "metadata": {
        "colab": {
          "base_uri": "https://localhost:8080/"
        },
        "id": "fk1XvMN1YoZV",
        "outputId": "b242131a-78f0-4109-9f36-13e716dc246d"
      },
      "execution_count": 4,
      "outputs": [
        {
          "output_type": "stream",
          "name": "stdout",
          "text": [
            "+----------+----------+\n",
            "|first_name| last_name|\n",
            "+----------+----------+\n",
            "|   Melinde| Shilburne|\n",
            "|  Kimberly|Von Welden|\n",
            "|    Alvera|  Di Boldi|\n",
            "|   Shannon| O'Griffin|\n",
            "|  Sherwood|   Macieja|\n",
            "|     Maris|      Folk|\n",
            "|     Masha|    Divers|\n",
            "|   Goddart|     Flear|\n",
            "|      Roth|O'Cannavan|\n",
            "|      Bran|   Trahear|\n",
            "|    Kylynn|   Lockart|\n",
            "|       Rey|    Meharg|\n",
            "|      Kerr|    Braden|\n",
            "|    Mickie| Whanstall|\n",
            "|    Kaspar|     Pally|\n",
            "|    Norbie|    Gwyllt|\n",
            "|    Claude|    Briant|\n",
            "|     Thain|    Habbon|\n",
            "|  Tiffanie|  Pattison|\n",
            "|    Ettore|  Gerriets|\n",
            "+----------+----------+\n",
            "only showing top 20 rows\n",
            "\n"
          ]
        }
      ]
    },
    {
      "cell_type": "code",
      "source": [
        "# Change column name:\n",
        "df_renamed = df.withColumnRenamed('first_name', 'fn').show()"
      ],
      "metadata": {
        "colab": {
          "base_uri": "https://localhost:8080/"
        },
        "id": "79APmyj6Y4AP",
        "outputId": "d1ea02a9-97fa-4696-83ce-24c66ba2e187"
      },
      "execution_count": 5,
      "outputs": [
        {
          "output_type": "stream",
          "name": "stdout",
          "text": [
            "+---+--------+----------+------+---------------+--------------------+---------+----------+----------+\n",
            "| id|      fn| last_name|gender|           City|            JobTitle|   Salary|  Latitude| Longitude|\n",
            "+---+--------+----------+------+---------------+--------------------+---------+----------+----------+\n",
            "|  1| Melinde| Shilburne|Female|      Nowa Ruda| Assistant Professor|$57438.18|50.5774075| 16.496717|\n",
            "|  2|Kimberly|Von Welden|Female|         Bulgan|       Programmer II|$62846.60|48.8231572| 103.52182|\n",
            "|  3|  Alvera|  Di Boldi|Female|           null|                null|$57576.52|39.9947462|116.339775|\n",
            "|  4| Shannon| O'Griffin|  Male|  Divnomorskoye|Budget/Accounting...|$61489.23|44.5047212| 38.130016|\n",
            "|  5|Sherwood|   Macieja|  Male|      Mytishchi|            VP Sales|$63863.09|      null| 37.648994|\n",
            "|  6|   Maris|      Folk|Female|Kinsealy-Drinan|      Civil Engineer|$30101.16|53.4266145|-6.1644998|\n",
            "|  7|   Masha|    Divers|Female|         Dachun|                null|$25090.87| 24.879416|118.930115|\n",
            "|  8| Goddart|     Flear|  Male|      Trélissac|Desktop Support T...|$46116.36|45.1905186| 0.7423124|\n",
            "|  9|    Roth|O'Cannavan|  Male|         Heitan|VP Product Manage...|$73697.10| 32.027934| 106.65711|\n",
            "| 10|    Bran|   Trahear|  Male|       Arbeláez|Mechanical System...|$68098.42|  4.272793|-74.416016|\n",
            "| 11|  Kylynn|   Lockart|Female|       El Cardo|Nuclear Power Eng...|$13604.63|     -5.85| -79.88333|\n",
            "| 12|     Rey|    Meharg|Female|    Wangqingtuo|Systems Administr...|$73423.70| 39.172378| 116.93161|\n",
            "| 13|    Kerr|    Braden|  Male|      Sułkowice|Compensation Analyst|$33432.99|49.8151822| 19.377174|\n",
            "| 14|  Mickie| Whanstall|  Male|    Springfield|Assistant Media P...|$50838.53|42.1014803|-72.576675|\n",
            "| 15|  Kaspar|     Pally|  Male|         Chrást|  Analyst Programmer|$40163.03|49.7923299| 13.491532|\n",
            "| 16|  Norbie|    Gwyllt|  Male|         Xijiao|              Editor|$32492.73|43.4945737|  5.897802|\n",
            "| 17|  Claude|    Briant|Female|      Mieścisko|Research Assistan...|$51862.48|52.7441662| 17.327864|\n",
            "| 18|   Thain|    Habbon|  Male| Foros do Trapo|     Design Engineer|$42135.67| 38.696249| -8.709834|\n",
            "| 19|Tiffanie|  Pattison|Female|    Jabungsisir|Senior Financial ...|$91925.08|-7.7232567| 113.46868|\n",
            "| 20|  Ettore|  Gerriets|  Male|          Pedra| Staff Accountant IV|$73921.33|40.7172049|-8.3625145|\n",
            "+---+--------+----------+------+---------------+--------------------+---------+----------+----------+\n",
            "only showing top 20 rows\n",
            "\n"
          ]
        }
      ]
    },
    {
      "cell_type": "code",
      "source": [
        "# Filter df based on 1 column value:\n",
        "df_filter = df.filter((df.first_name == 'Alvera')).show()"
      ],
      "metadata": {
        "colab": {
          "base_uri": "https://localhost:8080/"
        },
        "id": "_2pEx5KbZJCy",
        "outputId": "c66d1dd1-42e7-466e-d580-0cffe4f94550"
      },
      "execution_count": 6,
      "outputs": [
        {
          "output_type": "stream",
          "name": "stdout",
          "text": [
            "+---+----------+---------+------+----+--------+---------+----------+----------+\n",
            "| id|first_name|last_name|gender|City|JobTitle|   Salary|  Latitude| Longitude|\n",
            "+---+----------+---------+------+----+--------+---------+----------+----------+\n",
            "|  3|    Alvera| Di Boldi|Female|null|    null|$57576.52|39.9947462|116.339775|\n",
            "+---+----------+---------+------+----+--------+---------+----------+----------+\n",
            "\n"
          ]
        }
      ]
    },
    {
      "cell_type": "code",
      "source": [
        "# Filter df based on 1 column like value:\n",
        "df_filter = df.filter((df.first_name.like(\"%lvera\"))).show()"
      ],
      "metadata": {
        "colab": {
          "base_uri": "https://localhost:8080/"
        },
        "id": "v3CF3PvXZVk8",
        "outputId": "4f197ea5-4930-4e34-ba85-9d3d259fa537"
      },
      "execution_count": 8,
      "outputs": [
        {
          "output_type": "stream",
          "name": "stdout",
          "text": [
            "+---+----------+---------+------+----+--------+---------+----------+----------+\n",
            "| id|first_name|last_name|gender|City|JobTitle|   Salary|  Latitude| Longitude|\n",
            "+---+----------+---------+------+----+--------+---------+----------+----------+\n",
            "|  3|    Alvera| Di Boldi|Female|null|    null|$57576.52|39.9947462|116.339775|\n",
            "+---+----------+---------+------+----+--------+---------+----------+----------+\n",
            "\n"
          ]
        }
      ]
    },
    {
      "cell_type": "code",
      "source": [
        "# Filter df based on 1 column ending value:\n",
        "df_filter = df.filter((df.first_name.endswith('din'))).show()"
      ],
      "metadata": {
        "colab": {
          "base_uri": "https://localhost:8080/"
        },
        "id": "uNkzRyCEZoc5",
        "outputId": "bf1510f4-b2bc-4803-8d85-db3514ff6ff4"
      },
      "execution_count": 9,
      "outputs": [
        {
          "output_type": "stream",
          "name": "stdout",
          "text": [
            "+---+----------+-------------+------+-----------+--------+---------+-----------+---------+\n",
            "| id|first_name|    last_name|gender|       City|JobTitle|   Salary|   Latitude|Longitude|\n",
            "+---+----------+-------------+------+-----------+--------+---------+-----------+---------+\n",
            "|901|     Aldin|Matuszkiewicz|  Male|East London|Operator|$41468.83|-32.9549324|27.931913|\n",
            "+---+----------+-------------+------+-----------+--------+---------+-----------+---------+\n",
            "\n"
          ]
        }
      ]
    },
    {
      "cell_type": "code",
      "source": [
        "# Filter df based on 1 column starting value:\n",
        "df_filter = df.filter((df.first_name.startswith('Alv'))).show()"
      ],
      "metadata": {
        "colab": {
          "base_uri": "https://localhost:8080/"
        },
        "id": "9nceiXghZioQ",
        "outputId": "e3670402-6933-4a5d-d369-7bc7b3d3531d"
      },
      "execution_count": 10,
      "outputs": [
        {
          "output_type": "stream",
          "name": "stdout",
          "text": [
            "+---+----------+---------+------+----------+--------------------+---------+----------+----------+\n",
            "| id|first_name|last_name|gender|      City|            JobTitle|   Salary|  Latitude| Longitude|\n",
            "+---+----------+---------+------+----------+--------------------+---------+----------+----------+\n",
            "|  3|    Alvera| Di Boldi|Female|      null|                null|$57576.52|39.9947462|116.339775|\n",
            "| 81|     Alvin|    Doman|  Male|      Niny|Research Assistant I|$53258.86|44.4868448| 43.940807|\n",
            "|775|   Alverta| MacNulty|Female|Megalópoli| Geological Engineer|$17299.62| 37.401244| 22.136488|\n",
            "+---+----------+---------+------+----------+--------------------+---------+----------+----------+\n",
            "\n"
          ]
        }
      ]
    },
    {
      "cell_type": "code",
      "source": [
        "# Filter df based on 1 column interval:\n",
        "df_filter = df.filter((df.id.between(1,5))).show()"
      ],
      "metadata": {
        "colab": {
          "base_uri": "https://localhost:8080/"
        },
        "id": "bbXqbuafZ2Lx",
        "outputId": "57d0db74-524d-4291-9642-e62fc5353f46"
      },
      "execution_count": 12,
      "outputs": [
        {
          "output_type": "stream",
          "name": "stdout",
          "text": [
            "+---+----------+----------+------+-------------+--------------------+---------+----------+----------+\n",
            "| id|first_name| last_name|gender|         City|            JobTitle|   Salary|  Latitude| Longitude|\n",
            "+---+----------+----------+------+-------------+--------------------+---------+----------+----------+\n",
            "|  1|   Melinde| Shilburne|Female|    Nowa Ruda| Assistant Professor|$57438.18|50.5774075| 16.496717|\n",
            "|  2|  Kimberly|Von Welden|Female|       Bulgan|       Programmer II|$62846.60|48.8231572| 103.52182|\n",
            "|  3|    Alvera|  Di Boldi|Female|         null|                null|$57576.52|39.9947462|116.339775|\n",
            "|  4|   Shannon| O'Griffin|  Male|Divnomorskoye|Budget/Accounting...|$61489.23|44.5047212| 38.130016|\n",
            "|  5|  Sherwood|   Macieja|  Male|    Mytishchi|            VP Sales|$63863.09|      null| 37.648994|\n",
            "+---+----------+----------+------+-------------+--------------------+---------+----------+----------+\n",
            "\n"
          ]
        }
      ]
    },
    {
      "cell_type": "code",
      "source": [
        "# Filter df based on 1 column list of values:\n",
        "df_filter = df.filter((df.first_name.isin('Alvin','Valma'))).show()"
      ],
      "metadata": {
        "colab": {
          "base_uri": "https://localhost:8080/"
        },
        "id": "ihEPkhflaHAo",
        "outputId": "84d490f2-b322-406f-f39d-eeda965b9c7e"
      },
      "execution_count": 13,
      "outputs": [
        {
          "output_type": "stream",
          "name": "stdout",
          "text": [
            "+---+----------+---------+------+---------+--------------------+---------+----------+---------+\n",
            "| id|first_name|last_name|gender|     City|            JobTitle|   Salary|  Latitude|Longitude|\n",
            "+---+----------+---------+------+---------+--------------------+---------+----------+---------+\n",
            "| 81|     Alvin|    Doman|  Male|     Niny|Research Assistant I|$53258.86|44.4868448|43.940807|\n",
            "|569|     Valma|  Bratton|Female|Kurayoshi|    Web Developer II|$32665.89|35.4499037|133.76134|\n",
            "+---+----------+---------+------+---------+--------------------+---------+----------+---------+\n",
            "\n"
          ]
        }
      ]
    },
    {
      "cell_type": "code",
      "source": [
        "# Substring function:\n",
        "df_substr = df.select(df.first_name, df.first_name.substr(1,5).alias('name')).show()"
      ],
      "metadata": {
        "colab": {
          "base_uri": "https://localhost:8080/"
        },
        "id": "05XmB512aThc",
        "outputId": "6347e975-185f-466b-d928-26ac861bab9d"
      },
      "execution_count": 15,
      "outputs": [
        {
          "output_type": "stream",
          "name": "stdout",
          "text": [
            "+----------+-----+\n",
            "|first_name| name|\n",
            "+----------+-----+\n",
            "|   Melinde|Melin|\n",
            "|  Kimberly|Kimbe|\n",
            "|    Alvera|Alver|\n",
            "|   Shannon|Shann|\n",
            "|  Sherwood|Sherw|\n",
            "|     Maris|Maris|\n",
            "|     Masha|Masha|\n",
            "|   Goddart|Godda|\n",
            "|      Roth| Roth|\n",
            "|      Bran| Bran|\n",
            "|    Kylynn|Kylyn|\n",
            "|       Rey|  Rey|\n",
            "|      Kerr| Kerr|\n",
            "|    Mickie|Micki|\n",
            "|    Kaspar|Kaspa|\n",
            "|    Norbie|Norbi|\n",
            "|    Claude|Claud|\n",
            "|     Thain|Thain|\n",
            "|  Tiffanie|Tiffa|\n",
            "|    Ettore|Ettor|\n",
            "+----------+-----+\n",
            "only showing top 20 rows\n",
            "\n"
          ]
        }
      ]
    },
    {
      "cell_type": "code",
      "source": [
        "# Filtering based on multiple criteria ex1:\n",
        "df_filter = df.filter((df.first_name.isin('Aldin','Valma') | (df.City.like('%ondon')))).show()"
      ],
      "metadata": {
        "colab": {
          "base_uri": "https://localhost:8080/"
        },
        "id": "bsWtlcbta9OF",
        "outputId": "52a6094c-5a2a-46eb-dd6c-2ca120b34bb4"
      },
      "execution_count": 22,
      "outputs": [
        {
          "output_type": "stream",
          "name": "stdout",
          "text": [
            "+---+----------+-------------+------+-----------+----------------+---------+-----------+---------+\n",
            "| id|first_name|    last_name|gender|       City|        JobTitle|   Salary|   Latitude|Longitude|\n",
            "+---+----------+-------------+------+-----------+----------------+---------+-----------+---------+\n",
            "|569|     Valma|      Bratton|Female|  Kurayoshi|Web Developer II|$32665.89| 35.4499037|133.76134|\n",
            "|901|     Aldin|Matuszkiewicz|  Male|East London|        Operator|$41468.83|-32.9549324|27.931913|\n",
            "+---+----------+-------------+------+-----------+----------------+---------+-----------+---------+\n",
            "\n"
          ]
        }
      ]
    },
    {
      "cell_type": "code",
      "source": [
        "# Filtering based on multiple criteria ex2:\n",
        "df_filter = df.filter((df.id > 10) & (df.id < 100)).show()"
      ],
      "metadata": {
        "colab": {
          "base_uri": "https://localhost:8080/"
        },
        "id": "LVo_82_ybTz8",
        "outputId": "a52109ea-a4f1-443d-cc68-e3d072b91d13"
      },
      "execution_count": 21,
      "outputs": [
        {
          "output_type": "stream",
          "name": "stdout",
          "text": [
            "+---+----------+---------+------+--------------+--------------------+---------+----------+----------+\n",
            "| id|first_name|last_name|gender|          City|            JobTitle|   Salary|  Latitude| Longitude|\n",
            "+---+----------+---------+------+--------------+--------------------+---------+----------+----------+\n",
            "| 11|    Kylynn|  Lockart|Female|      El Cardo|Nuclear Power Eng...|$13604.63|     -5.85| -79.88333|\n",
            "| 12|       Rey|   Meharg|Female|   Wangqingtuo|Systems Administr...|$73423.70| 39.172378| 116.93161|\n",
            "| 13|      Kerr|   Braden|  Male|     Sułkowice|Compensation Analyst|$33432.99|49.8151822| 19.377174|\n",
            "| 14|    Mickie|Whanstall|  Male|   Springfield|Assistant Media P...|$50838.53|42.1014803|-72.576675|\n",
            "| 15|    Kaspar|    Pally|  Male|        Chrást|  Analyst Programmer|$40163.03|49.7923299| 13.491532|\n",
            "| 16|    Norbie|   Gwyllt|  Male|        Xijiao|              Editor|$32492.73|43.4945737|  5.897802|\n",
            "| 17|    Claude|   Briant|Female|     Mieścisko|Research Assistan...|$51862.48|52.7441662| 17.327864|\n",
            "| 18|     Thain|   Habbon|  Male|Foros do Trapo|     Design Engineer|$42135.67| 38.696249| -8.709834|\n",
            "| 19|  Tiffanie| Pattison|Female|   Jabungsisir|Senior Financial ...|$91925.08|-7.7232567| 113.46868|\n",
            "| 20|    Ettore| Gerriets|  Male|         Pedra| Staff Accountant IV|$73921.33|40.7172049|-8.3625145|\n",
            "| 21|      Alon| Chasteau|  Male|         Xin’e|     Web Developer I|$62755.85|  49.16291| 127.98658|\n",
            "| 22|   Guthrey|   Johnke|  Male|        Xijiao|         Developer I|$13708.03|40.7576842| 23.134218|\n",
            "| 23|   Lurleen|  Janczak|Female|     Rozkishne|    Web Developer IV|$29384.72|48.4902808|  39.27122|\n",
            "| 24|    Nichol|   Holtum|Female|         Město|           Paralegal|$27797.98|49.9718258| 12.884627|\n",
            "| 25|     Shaun|   Bridle|Female|         Xitou| Office Assistant IV|$71279.60| 29.866917|118.403786|\n",
            "| 26|   Leandra|   Anfrey|Female|       Isfahan|VP Product Manage...|$30201.32|32.6546275| 51.667984|\n",
            "| 27|    Jarvis|   Perone|  Male|     Hägersten| Associate Professor|$55313.18|59.2832062| 17.957006|\n",
            "| 28|  Jaquelyn|   Hazard|Female|         Dhaka|      Tax Accountant|$68368.55| 23.810332|  90.41252|\n",
            "| 29|  Prudence| Honacker|Female|   Suphan Buri|       VP Accounting|$64920.07|14.5466721|100.079575|\n",
            "| 30|    Cherey|    Liger|Female|         Itami|     Design Engineer|$94566.69|34.7791206|  135.4204|\n",
            "+---+----------+---------+------+--------------+--------------------+---------+----------+----------+\n",
            "only showing top 20 rows\n",
            "\n"
          ]
        }
      ]
    }
  ]
}
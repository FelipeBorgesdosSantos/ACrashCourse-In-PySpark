{
  "nbformat": 4,
  "nbformat_minor": 0,
  "metadata": {
    "colab": {
      "provenance": [],
      "authorship_tag": "ABX9TyNf+PpL0Gr1iEhOZQIr9Gm5",
      "include_colab_link": true
    },
    "kernelspec": {
      "name": "python3",
      "display_name": "Python 3"
    },
    "language_info": {
      "name": "python"
    }
  },
  "cells": [
    {
      "cell_type": "markdown",
      "metadata": {
        "id": "view-in-github",
        "colab_type": "text"
      },
      "source": [
        "<a href=\"https://colab.research.google.com/github/FelipeBorgesdosSantos/ACrashCourse-In-PySpark/blob/main/WritingDataframeToFiles.ipynb\" target=\"_parent\"><img src=\"https://colab.research.google.com/assets/colab-badge.svg\" alt=\"Open In Colab\"/></a>"
      ]
    },
    {
      "cell_type": "code",
      "execution_count": 1,
      "metadata": {
        "colab": {
          "base_uri": "https://localhost:8080/",
          "height": 532
        },
        "id": "PNol59DplxzW",
        "outputId": "5060acf1-8c7e-4254-fcfa-5defcc52358c"
      },
      "outputs": [
        {
          "output_type": "stream",
          "name": "stdout",
          "text": [
            "\r0% [Working]\r            \rHit:1 http://archive.ubuntu.com/ubuntu jammy InRelease\n",
            "\r0% [Waiting for headers] [Connecting to security.ubuntu.com (185.125.190.39)] [\r                                                                               \rGet:2 http://archive.ubuntu.com/ubuntu jammy-updates InRelease [119 kB]\n",
            "\r                                                                               \rGet:3 https://cloud.r-project.org/bin/linux/ubuntu jammy-cran40/ InRelease [3,626 B]\n",
            "\r0% [Waiting for headers] [Waiting for headers] [Connected to ppa.launchpadconte\r                                                                               \rGet:4 http://archive.ubuntu.com/ubuntu jammy-backports InRelease [109 kB]\n",
            "Hit:5 https://developer.download.nvidia.com/compute/cuda/repos/ubuntu2204/x86_64  InRelease\n",
            "Get:6 http://security.ubuntu.com/ubuntu jammy-security InRelease [110 kB]\n",
            "Hit:7 https://ppa.launchpadcontent.net/c2d4u.team/c2d4u4.0+/ubuntu jammy InRelease\n",
            "Get:8 http://archive.ubuntu.com/ubuntu jammy-updates/main amd64 Packages [1,282 kB]\n",
            "Get:9 http://archive.ubuntu.com/ubuntu jammy-updates/universe amd64 Packages [1,259 kB]\n",
            "Get:10 http://archive.ubuntu.com/ubuntu jammy-updates/restricted amd64 Packages [1,155 kB]\n",
            "Hit:11 https://ppa.launchpadcontent.net/deadsnakes/ppa/ubuntu jammy InRelease\n",
            "Hit:12 https://ppa.launchpadcontent.net/graphics-drivers/ppa/ubuntu jammy InRelease\n",
            "Hit:13 https://ppa.launchpadcontent.net/ubuntugis/ppa/ubuntu jammy InRelease\n",
            "Get:14 http://security.ubuntu.com/ubuntu jammy-security/universe amd64 Packages [996 kB]\n",
            "Get:15 http://security.ubuntu.com/ubuntu jammy-security/restricted amd64 Packages [1,134 kB]\n",
            "Get:16 http://security.ubuntu.com/ubuntu jammy-security/main amd64 Packages [1,013 kB]\n",
            "Fetched 7,181 kB in 3s (2,848 kB/s)\n",
            "Reading package lists... Done\n"
          ]
        },
        {
          "output_type": "execute_result",
          "data": {
            "text/plain": [
              "<pyspark.sql.session.SparkSession at 0x7c74c07bc130>"
            ],
            "text/html": [
              "\n",
              "            <div>\n",
              "                <p><b>SparkSession - in-memory</b></p>\n",
              "                \n",
              "        <div>\n",
              "            <p><b>SparkContext</b></p>\n",
              "\n",
              "            <p><a href=\"http://e72d65142b91:4040\">Spark UI</a></p>\n",
              "\n",
              "            <dl>\n",
              "              <dt>Version</dt>\n",
              "                <dd><code>v3.1.1</code></dd>\n",
              "              <dt>Master</dt>\n",
              "                <dd><code>local[*]</code></dd>\n",
              "              <dt>AppName</dt>\n",
              "                <dd><code>pyspark-shell</code></dd>\n",
              "            </dl>\n",
              "        </div>\n",
              "        \n",
              "            </div>\n",
              "        "
            ]
          },
          "metadata": {},
          "execution_count": 1
        }
      ],
      "source": [
        "!apt-get update # updating apt get repository\n",
        "!apt-get install openjdk-8-jdk-headless -qq > /dev/null # installing java development kit\n",
        "!wget -q http://archive.apache.org/dist/spark/spark-3.1.1/spark-3.1.1-bin-hadoop3.2.tgz # get the apache distribution from apache.org\n",
        "!tar xf spark-3.1.1-bin-hadoop3.2.tgz # unzipping apache distribution\n",
        "!pip install -q findspark # installing findspark, which adds pyspark to the system path when we execute this code\n",
        "# setting home environment variables, so we now where to find the respective libraries\n",
        "import os\n",
        "os.environ[\"JAVA_HOME\"] = \"/usr/lib/jvm/java-8-openjdk-amd64\"\n",
        "os.environ[\"SPARK_HOME\"] = \"/content/spark-3.1.1-bin-hadoop3.2\"\n",
        "# initiallizing pyspark\n",
        "import findspark\n",
        "findspark.init()\n",
        "# importing pyspark and starting a session\n",
        "from pyspark.sql import SparkSession\n",
        "spark = SparkSession.builder.master(\"local[*]\").getOrCreate()\n",
        "spark"
      ]
    },
    {
      "cell_type": "code",
      "source": [
        "# Setting schema and importing:\n",
        "from pyspark.sql.types import *\n",
        "myschema = StructType([\n",
        "      StructField('id', IntegerType()),\n",
        "      StructField('first_name', StringType()),\n",
        "      StructField('last_name', StringType()),\n",
        "      StructField('gender', StringType()),\n",
        "      StructField('City', StringType()),\n",
        "      StructField('JobTitle', StringType()),\n",
        "      StructField('Salary', StringType()),\n",
        "      StructField('Latitude', StringType()),\n",
        "      StructField('Longitude', FloatType())\n",
        "])\n",
        "df = spark.read.csv(\"original.csv\", header=True, schema = myschema)\n",
        "df.show()\n",
        "df.dtypes"
      ],
      "metadata": {
        "colab": {
          "base_uri": "https://localhost:8080/"
        },
        "id": "2T_zG7h1ly8I",
        "outputId": "2375f78e-e4d6-492e-8b59-6c732eb60a4b"
      },
      "execution_count": 2,
      "outputs": [
        {
          "output_type": "stream",
          "name": "stdout",
          "text": [
            "+---+----------+----------+------+---------------+--------------------+---------+----------+----------+\n",
            "| id|first_name| last_name|gender|           City|            JobTitle|   Salary|  Latitude| Longitude|\n",
            "+---+----------+----------+------+---------------+--------------------+---------+----------+----------+\n",
            "|  1|   Melinde| Shilburne|Female|      Nowa Ruda| Assistant Professor|$57438.18|50.5774075| 16.496717|\n",
            "|  2|  Kimberly|Von Welden|Female|         Bulgan|       Programmer II|$62846.60|48.8231572| 103.52182|\n",
            "|  3|    Alvera|  Di Boldi|Female|           null|                null|$57576.52|39.9947462|116.339775|\n",
            "|  4|   Shannon| O'Griffin|  Male|  Divnomorskoye|Budget/Accounting...|$61489.23|44.5047212| 38.130016|\n",
            "|  5|  Sherwood|   Macieja|  Male|      Mytishchi|            VP Sales|$63863.09|      null| 37.648994|\n",
            "|  6|     Maris|      Folk|Female|Kinsealy-Drinan|      Civil Engineer|$30101.16|53.4266145|-6.1644998|\n",
            "|  7|     Masha|    Divers|Female|         Dachun|                null|$25090.87| 24.879416|118.930115|\n",
            "|  8|   Goddart|     Flear|  Male|      Trélissac|Desktop Support T...|$46116.36|45.1905186| 0.7423124|\n",
            "|  9|      Roth|O'Cannavan|  Male|         Heitan|VP Product Manage...|$73697.10| 32.027934| 106.65711|\n",
            "| 10|      Bran|   Trahear|  Male|       Arbeláez|Mechanical System...|$68098.42|  4.272793|-74.416016|\n",
            "| 11|    Kylynn|   Lockart|Female|       El Cardo|Nuclear Power Eng...|$13604.63|     -5.85| -79.88333|\n",
            "| 12|       Rey|    Meharg|Female|    Wangqingtuo|Systems Administr...|$73423.70| 39.172378| 116.93161|\n",
            "| 13|      Kerr|    Braden|  Male|      Sułkowice|Compensation Analyst|$33432.99|49.8151822| 19.377174|\n",
            "| 14|    Mickie| Whanstall|  Male|    Springfield|Assistant Media P...|$50838.53|42.1014803|-72.576675|\n",
            "| 15|    Kaspar|     Pally|  Male|         Chrást|  Analyst Programmer|$40163.03|49.7923299| 13.491532|\n",
            "| 16|    Norbie|    Gwyllt|  Male|         Xijiao|              Editor|$32492.73|43.4945737|  5.897802|\n",
            "| 17|    Claude|    Briant|Female|      Mieścisko|Research Assistan...|$51862.48|52.7441662| 17.327864|\n",
            "| 18|     Thain|    Habbon|  Male| Foros do Trapo|     Design Engineer|$42135.67| 38.696249| -8.709834|\n",
            "| 19|  Tiffanie|  Pattison|Female|    Jabungsisir|Senior Financial ...|$91925.08|-7.7232567| 113.46868|\n",
            "| 20|    Ettore|  Gerriets|  Male|          Pedra| Staff Accountant IV|$73921.33|40.7172049|-8.3625145|\n",
            "+---+----------+----------+------+---------------+--------------------+---------+----------+----------+\n",
            "only showing top 20 rows\n",
            "\n"
          ]
        },
        {
          "output_type": "execute_result",
          "data": {
            "text/plain": [
              "[('id', 'int'),\n",
              " ('first_name', 'string'),\n",
              " ('last_name', 'string'),\n",
              " ('gender', 'string'),\n",
              " ('City', 'string'),\n",
              " ('JobTitle', 'string'),\n",
              " ('Salary', 'string'),\n",
              " ('Latitude', 'string'),\n",
              " ('Longitude', 'float')]"
            ]
          },
          "metadata": {},
          "execution_count": 2
        }
      ]
    },
    {
      "cell_type": "code",
      "source": [
        "from pyspark.sql.functions import *\n",
        "df = df.withColumn('clean_salary', df.Salary.substr(2,100).cast('float'))\n",
        "df.show()"
      ],
      "metadata": {
        "colab": {
          "base_uri": "https://localhost:8080/"
        },
        "id": "IPgBWZ60l76y",
        "outputId": "dfa93fa8-a668-4ef8-ca34-621363c098db"
      },
      "execution_count": 3,
      "outputs": [
        {
          "output_type": "stream",
          "name": "stdout",
          "text": [
            "+---+----------+----------+------+---------------+--------------------+---------+----------+----------+------------+\n",
            "| id|first_name| last_name|gender|           City|            JobTitle|   Salary|  Latitude| Longitude|clean_salary|\n",
            "+---+----------+----------+------+---------------+--------------------+---------+----------+----------+------------+\n",
            "|  1|   Melinde| Shilburne|Female|      Nowa Ruda| Assistant Professor|$57438.18|50.5774075| 16.496717|    57438.18|\n",
            "|  2|  Kimberly|Von Welden|Female|         Bulgan|       Programmer II|$62846.60|48.8231572| 103.52182|     62846.6|\n",
            "|  3|    Alvera|  Di Boldi|Female|           null|                null|$57576.52|39.9947462|116.339775|    57576.52|\n",
            "|  4|   Shannon| O'Griffin|  Male|  Divnomorskoye|Budget/Accounting...|$61489.23|44.5047212| 38.130016|    61489.23|\n",
            "|  5|  Sherwood|   Macieja|  Male|      Mytishchi|            VP Sales|$63863.09|      null| 37.648994|    63863.09|\n",
            "|  6|     Maris|      Folk|Female|Kinsealy-Drinan|      Civil Engineer|$30101.16|53.4266145|-6.1644998|    30101.16|\n",
            "|  7|     Masha|    Divers|Female|         Dachun|                null|$25090.87| 24.879416|118.930115|    25090.87|\n",
            "|  8|   Goddart|     Flear|  Male|      Trélissac|Desktop Support T...|$46116.36|45.1905186| 0.7423124|    46116.36|\n",
            "|  9|      Roth|O'Cannavan|  Male|         Heitan|VP Product Manage...|$73697.10| 32.027934| 106.65711|     73697.1|\n",
            "| 10|      Bran|   Trahear|  Male|       Arbeláez|Mechanical System...|$68098.42|  4.272793|-74.416016|    68098.42|\n",
            "| 11|    Kylynn|   Lockart|Female|       El Cardo|Nuclear Power Eng...|$13604.63|     -5.85| -79.88333|    13604.63|\n",
            "| 12|       Rey|    Meharg|Female|    Wangqingtuo|Systems Administr...|$73423.70| 39.172378| 116.93161|     73423.7|\n",
            "| 13|      Kerr|    Braden|  Male|      Sułkowice|Compensation Analyst|$33432.99|49.8151822| 19.377174|    33432.99|\n",
            "| 14|    Mickie| Whanstall|  Male|    Springfield|Assistant Media P...|$50838.53|42.1014803|-72.576675|    50838.53|\n",
            "| 15|    Kaspar|     Pally|  Male|         Chrást|  Analyst Programmer|$40163.03|49.7923299| 13.491532|    40163.03|\n",
            "| 16|    Norbie|    Gwyllt|  Male|         Xijiao|              Editor|$32492.73|43.4945737|  5.897802|    32492.73|\n",
            "| 17|    Claude|    Briant|Female|      Mieścisko|Research Assistan...|$51862.48|52.7441662| 17.327864|    51862.48|\n",
            "| 18|     Thain|    Habbon|  Male| Foros do Trapo|     Design Engineer|$42135.67| 38.696249| -8.709834|    42135.67|\n",
            "| 19|  Tiffanie|  Pattison|Female|    Jabungsisir|Senior Financial ...|$91925.08|-7.7232567| 113.46868|    91925.08|\n",
            "| 20|    Ettore|  Gerriets|  Male|          Pedra| Staff Accountant IV|$73921.33|40.7172049|-8.3625145|    73921.33|\n",
            "+---+----------+----------+------+---------------+--------------------+---------+----------+----------+------------+\n",
            "only showing top 20 rows\n",
            "\n"
          ]
        }
      ]
    },
    {
      "cell_type": "code",
      "source": [
        "# Describing based on Gender and City:\n",
        "import pyspark.sql.functions as sqlfunc\n",
        "df1 = df.groupBy('gender', 'city').agg(sqlfunc.sum('clean_salary').alias('total'),\n",
        "                               sqlfunc.avg('clean_salary').alias('average'),\n",
        "                               sqlfunc.min('clean_salary').alias('min'),\n",
        "                               sqlfunc.max('clean_salary').alias('max'))\n",
        "df1.show()"
      ],
      "metadata": {
        "colab": {
          "base_uri": "https://localhost:8080/"
        },
        "id": "w2uR5TnfmEzC",
        "outputId": "e2c5b1a4-077e-486a-d237-5f68c5a98a91"
      },
      "execution_count": 5,
      "outputs": [
        {
          "output_type": "stream",
          "name": "stdout",
          "text": [
            "+------+-----------------+----------------+----------------+--------+--------+\n",
            "|gender|             city|           total|         average|     min|     max|\n",
            "+------+-----------------+----------------+----------------+--------+--------+\n",
            "|Female|           Dachun| 25090.869140625| 25090.869140625|25090.87|25090.87|\n",
            "|Female|      Trollhättan|106623.369140625|53311.6845703125|26830.47| 79792.9|\n",
            "|  Male|          Wenshao| 18941.509765625| 18941.509765625|18941.51|18941.51|\n",
            "|Female|            Lanas| 13765.900390625| 13765.900390625| 13765.9| 13765.9|\n",
            "|  Male|            Mörön|    77940.078125|    77940.078125|77940.08|77940.08|\n",
            "|Female|             Same|   73369.7265625|   73369.7265625|73369.73|73369.73|\n",
            "|Female|          Sawahan|  24608.83984375|  24608.83984375|24608.84|24608.84|\n",
            "|  Male|Monte da Boavista|     98586.71875|     98586.71875|98586.72|98586.72|\n",
            "|Female|         Nusajaya|    71637.921875|    71637.921875|71637.92|71637.92|\n",
            "|Female|            Kista|   96192.3984375|   96192.3984375| 96192.4| 96192.4|\n",
            "|  Male|       Pittsburgh|    83121.890625|    83121.890625|83121.89|83121.89|\n",
            "|  Male|       Neftegorsk|     97531.46875|     97531.46875|97531.47|97531.47|\n",
            "|Female|          Yanaoca|     54906.21875|     54906.21875|54906.22|54906.22|\n",
            "|  Male|            Tambo|  40264.91015625|  40264.91015625|40264.91|40264.91|\n",
            "|  Male|        Mytishchi|  63863.08984375|  63863.08984375|63863.09|63863.09|\n",
            "|  Male|            Pedra|    73921.328125|    73921.328125|73921.33|73921.33|\n",
            "|Female|            Dhaka|    68368.546875|    68368.546875|68368.55|68368.55|\n",
            "|  Male|        Mosteiros|  62508.87109375|  62508.87109375|62508.87|62508.87|\n",
            "|  Male|           Roanne|   93339.9921875|   93339.9921875|93339.99|93339.99|\n",
            "|Female|        Eindhoven| 24042.099609375| 24042.099609375| 24042.1| 24042.1|\n",
            "+------+-----------------+----------------+----------------+--------+--------+\n",
            "only showing top 20 rows\n",
            "\n"
          ]
        }
      ]
    },
    {
      "cell_type": "code",
      "source": [
        "# Writing df to a file:\n",
        "df1.write.csv('df1.csv')\n",
        "df1.write.json('df1.json')\n",
        "df1.write.parquet('df1.parquet')\n",
        "\n",
        "# can add partitions and compression as options"
      ],
      "metadata": {
        "id": "Zi6Uy_lBmJul"
      },
      "execution_count": 6,
      "outputs": []
    }
  ]
}